{
 "cells": [
  {
   "cell_type": "markdown",
   "id": "9d999f07-e812-4d46-9c31-57bcf4977def",
   "metadata": {},
   "source": [
    "# Cleaning Player ID List\n",
    "\n",
    "This will help us to reference players by ID.\n",
    "\n",
    "First of all the raw .csv data is read in."
   ]
  },
  {
   "cell_type": "code",
   "execution_count": 1,
   "id": "581c87fd-4658-4a23-85eb-59fda49b82bf",
   "metadata": {},
   "outputs": [],
   "source": [
    "import os\n",
    "import pandas as pd\n",
    "import pickle"
   ]
  },
  {
   "cell_type": "code",
   "execution_count": 2,
   "id": "0c1cff58-cd6a-4757-a51d-3e188a76da0e",
   "metadata": {},
   "outputs": [],
   "source": [
    "os.chdir('../data')"
   ]
  },
  {
   "cell_type": "code",
   "execution_count": 3,
   "id": "58fd5098-910e-48d4-a529-c048cae8483b",
   "metadata": {},
   "outputs": [
    {
     "data": {
      "text/plain": [
       "'C:\\\\Users\\\\phili\\\\FantasyPL\\\\data'"
      ]
     },
     "execution_count": 3,
     "metadata": {},
     "output_type": "execute_result"
    }
   ],
   "source": [
    "os.getcwd()"
   ]
  },
  {
   "cell_type": "code",
   "execution_count": 4,
   "id": "41de5e7a-766b-4858-95d7-3a7ce7a220c0",
   "metadata": {},
   "outputs": [
    {
     "data": {
      "text/plain": [
       "['.ipynb_checkpoints', 'clean', 'raw']"
      ]
     },
     "execution_count": 4,
     "metadata": {},
     "output_type": "execute_result"
    }
   ],
   "source": [
    "os.listdir()"
   ]
  },
  {
   "cell_type": "code",
   "execution_count": 5,
   "id": "e3949735-afe0-4765-8bdf-d9abf0c70021",
   "metadata": {},
   "outputs": [],
   "source": [
    "data20_21 = 'raw/20_21/player_idlist.csv'\n",
    "data21_22 = 'raw/21_22/player_idlist.csv'"
   ]
  },
  {
   "cell_type": "code",
   "execution_count": 6,
   "id": "831bd6bb-8ffa-4a2d-ac0e-ec869cd5bde4",
   "metadata": {},
   "outputs": [],
   "source": [
    "player_ids20_21_df = pd.read_csv(data20_21)\n",
    "player_ids21_22_df = pd.read_csv(data21_22)"
   ]
  },
  {
   "cell_type": "code",
   "execution_count": 7,
   "id": "20ea5188-4857-4b18-92f5-c561313176fc",
   "metadata": {},
   "outputs": [
    {
     "data": {
      "text/html": [
       "<div>\n",
       "<style scoped>\n",
       "    .dataframe tbody tr th:only-of-type {\n",
       "        vertical-align: middle;\n",
       "    }\n",
       "\n",
       "    .dataframe tbody tr th {\n",
       "        vertical-align: top;\n",
       "    }\n",
       "\n",
       "    .dataframe thead th {\n",
       "        text-align: right;\n",
       "    }\n",
       "</style>\n",
       "<table border=\"1\" class=\"dataframe\">\n",
       "  <thead>\n",
       "    <tr style=\"text-align: right;\">\n",
       "      <th></th>\n",
       "      <th>first_name</th>\n",
       "      <th>second_name</th>\n",
       "      <th>id</th>\n",
       "    </tr>\n",
       "  </thead>\n",
       "  <tbody>\n",
       "    <tr>\n",
       "      <th>0</th>\n",
       "      <td>Mesut</td>\n",
       "      <td>Özil</td>\n",
       "      <td>1</td>\n",
       "    </tr>\n",
       "    <tr>\n",
       "      <th>1</th>\n",
       "      <td>Sokratis</td>\n",
       "      <td>Papastathopoulos</td>\n",
       "      <td>2</td>\n",
       "    </tr>\n",
       "    <tr>\n",
       "      <th>2</th>\n",
       "      <td>David</td>\n",
       "      <td>Luiz Moreira Marinho</td>\n",
       "      <td>3</td>\n",
       "    </tr>\n",
       "    <tr>\n",
       "      <th>3</th>\n",
       "      <td>Pierre-Emerick</td>\n",
       "      <td>Aubameyang</td>\n",
       "      <td>4</td>\n",
       "    </tr>\n",
       "    <tr>\n",
       "      <th>4</th>\n",
       "      <td>Cédric</td>\n",
       "      <td>Soares</td>\n",
       "      <td>5</td>\n",
       "    </tr>\n",
       "    <tr>\n",
       "      <th>...</th>\n",
       "      <td>...</td>\n",
       "      <td>...</td>\n",
       "      <td>...</td>\n",
       "    </tr>\n",
       "    <tr>\n",
       "      <th>708</th>\n",
       "      <td>Andreas</td>\n",
       "      <td>Söndergaard</td>\n",
       "      <td>617</td>\n",
       "    </tr>\n",
       "    <tr>\n",
       "      <th>709</th>\n",
       "      <td>Patrick</td>\n",
       "      <td>Cutrone</td>\n",
       "      <td>626</td>\n",
       "    </tr>\n",
       "    <tr>\n",
       "      <th>710</th>\n",
       "      <td>Nigel</td>\n",
       "      <td>Lonwijk</td>\n",
       "      <td>629</td>\n",
       "    </tr>\n",
       "    <tr>\n",
       "      <th>711</th>\n",
       "      <td>Willian José</td>\n",
       "      <td>Da Silva</td>\n",
       "      <td>642</td>\n",
       "    </tr>\n",
       "    <tr>\n",
       "      <th>712</th>\n",
       "      <td>Hugo</td>\n",
       "      <td>Bueno</td>\n",
       "      <td>649</td>\n",
       "    </tr>\n",
       "  </tbody>\n",
       "</table>\n",
       "<p>713 rows × 3 columns</p>\n",
       "</div>"
      ],
      "text/plain": [
       "         first_name           second_name   id\n",
       "0             Mesut                  Özil    1\n",
       "1          Sokratis      Papastathopoulos    2\n",
       "2             David  Luiz Moreira Marinho    3\n",
       "3    Pierre-Emerick            Aubameyang    4\n",
       "4            Cédric                Soares    5\n",
       "..              ...                   ...  ...\n",
       "708         Andreas           Söndergaard  617\n",
       "709         Patrick               Cutrone  626\n",
       "710           Nigel               Lonwijk  629\n",
       "711    Willian José              Da Silva  642\n",
       "712            Hugo                 Bueno  649\n",
       "\n",
       "[713 rows x 3 columns]"
      ]
     },
     "execution_count": 7,
     "metadata": {},
     "output_type": "execute_result"
    }
   ],
   "source": [
    "player_ids20_21_df"
   ]
  },
  {
   "cell_type": "code",
   "execution_count": 10,
   "id": "311101d9-1ab9-443f-9788-630cc803489b",
   "metadata": {},
   "outputs": [
    {
     "name": "stdout",
     "output_type": "stream",
     "text": [
      "\\begin{tabular}{lllr}\n",
      "\\toprule\n",
      "{} &      first\\_name &           second\\_name &  id \\\\\n",
      "\\midrule\n",
      "0 &           Mesut &                  Özil &   1 \\\\\n",
      "1 &        Sokratis &      Papastathopoulos &   2 \\\\\n",
      "2 &           David &  Luiz Moreira Marinho &   3 \\\\\n",
      "3 &  Pierre-Emerick &            Aubameyang &   4 \\\\\n",
      "4 &          Cédric &                Soares &   5 \\\\\n",
      "\\bottomrule\n",
      "\\end{tabular}\n",
      "\n"
     ]
    },
    {
     "name": "stderr",
     "output_type": "stream",
     "text": [
      "C:\\Users\\phili\\AppData\\Local\\Temp\\ipykernel_21232\\2782097407.py:1: FutureWarning: In future versions `DataFrame.to_latex` is expected to utilise the base implementation of `Styler.to_latex` for formatting and rendering. The arguments signature may therefore change. It is recommended instead to use `DataFrame.style.to_latex` which also contains additional functionality.\n",
      "  print(player_ids20_21_df.head(5).to_latex())\n"
     ]
    }
   ],
   "source": [
    "print(player_ids20_21_df.head(5).to_latex())"
   ]
  },
  {
   "cell_type": "code",
   "execution_count": 11,
   "id": "971c3b9f-6edd-40de-8a70-aaaa20b4f7ed",
   "metadata": {},
   "outputs": [
    {
     "data": {
      "text/html": [
       "<div>\n",
       "<style scoped>\n",
       "    .dataframe tbody tr th:only-of-type {\n",
       "        vertical-align: middle;\n",
       "    }\n",
       "\n",
       "    .dataframe tbody tr th {\n",
       "        vertical-align: top;\n",
       "    }\n",
       "\n",
       "    .dataframe thead th {\n",
       "        text-align: right;\n",
       "    }\n",
       "</style>\n",
       "<table border=\"1\" class=\"dataframe\">\n",
       "  <thead>\n",
       "    <tr style=\"text-align: right;\">\n",
       "      <th></th>\n",
       "      <th>first_name</th>\n",
       "      <th>second_name</th>\n",
       "      <th>id</th>\n",
       "    </tr>\n",
       "  </thead>\n",
       "  <tbody>\n",
       "    <tr>\n",
       "      <th>0</th>\n",
       "      <td>Bernd</td>\n",
       "      <td>Leno</td>\n",
       "      <td>1</td>\n",
       "    </tr>\n",
       "    <tr>\n",
       "      <th>1</th>\n",
       "      <td>Rúnar Alex</td>\n",
       "      <td>Rúnarsson</td>\n",
       "      <td>2</td>\n",
       "    </tr>\n",
       "    <tr>\n",
       "      <th>2</th>\n",
       "      <td>Willian</td>\n",
       "      <td>Borges Da Silva</td>\n",
       "      <td>3</td>\n",
       "    </tr>\n",
       "    <tr>\n",
       "      <th>3</th>\n",
       "      <td>Pierre-Emerick</td>\n",
       "      <td>Aubameyang</td>\n",
       "      <td>4</td>\n",
       "    </tr>\n",
       "    <tr>\n",
       "      <th>4</th>\n",
       "      <td>Cédric</td>\n",
       "      <td>Soares</td>\n",
       "      <td>5</td>\n",
       "    </tr>\n",
       "    <tr>\n",
       "      <th>...</th>\n",
       "      <td>...</td>\n",
       "      <td>...</td>\n",
       "      <td>...</td>\n",
       "    </tr>\n",
       "    <tr>\n",
       "      <th>709</th>\n",
       "      <td>Bruno André</td>\n",
       "      <td>Cavaco Jordão</td>\n",
       "      <td>661</td>\n",
       "    </tr>\n",
       "    <tr>\n",
       "      <th>710</th>\n",
       "      <td>Toti António</td>\n",
       "      <td>Gomes</td>\n",
       "      <td>685</td>\n",
       "    </tr>\n",
       "    <tr>\n",
       "      <th>711</th>\n",
       "      <td>Dion</td>\n",
       "      <td>Sanderson</td>\n",
       "      <td>686</td>\n",
       "    </tr>\n",
       "    <tr>\n",
       "      <th>712</th>\n",
       "      <td>Ryan</td>\n",
       "      <td>Giles</td>\n",
       "      <td>687</td>\n",
       "    </tr>\n",
       "    <tr>\n",
       "      <th>713</th>\n",
       "      <td>Francisco Jorge</td>\n",
       "      <td>Tomás Oliveira</td>\n",
       "      <td>689</td>\n",
       "    </tr>\n",
       "  </tbody>\n",
       "</table>\n",
       "<p>714 rows × 3 columns</p>\n",
       "</div>"
      ],
      "text/plain": [
       "          first_name      second_name   id\n",
       "0              Bernd             Leno    1\n",
       "1         Rúnar Alex        Rúnarsson    2\n",
       "2            Willian  Borges Da Silva    3\n",
       "3     Pierre-Emerick       Aubameyang    4\n",
       "4             Cédric           Soares    5\n",
       "..               ...              ...  ...\n",
       "709      Bruno André    Cavaco Jordão  661\n",
       "710     Toti António            Gomes  685\n",
       "711             Dion        Sanderson  686\n",
       "712             Ryan            Giles  687\n",
       "713  Francisco Jorge   Tomás Oliveira  689\n",
       "\n",
       "[714 rows x 3 columns]"
      ]
     },
     "execution_count": 11,
     "metadata": {},
     "output_type": "execute_result"
    }
   ],
   "source": [
    "player_ids21_22_df"
   ]
  },
  {
   "cell_type": "markdown",
   "id": "72862b57-be30-424d-9be1-50f22deac5d7",
   "metadata": {},
   "source": [
    "To make this data useable alongside game week data, we must combine the first_name and second_name"
   ]
  },
  {
   "cell_type": "code",
   "execution_count": 12,
   "id": "719e9e34-f9b4-4462-a55a-5be17a2de7d1",
   "metadata": {},
   "outputs": [],
   "source": [
    "player_ids20_21_df['name'] = player_ids20_21_df[['first_name','second_name']].apply(lambda x: ' '.join(x), axis=1)\n",
    "player_ids20_21_df = player_ids20_21_df.drop([\"first_name\", \"second_name\"], axis=1)"
   ]
  },
  {
   "cell_type": "code",
   "execution_count": 13,
   "id": "036d53b4-6d27-4648-9e07-fe16c216c5de",
   "metadata": {},
   "outputs": [
    {
     "data": {
      "text/html": [
       "<div>\n",
       "<style scoped>\n",
       "    .dataframe tbody tr th:only-of-type {\n",
       "        vertical-align: middle;\n",
       "    }\n",
       "\n",
       "    .dataframe tbody tr th {\n",
       "        vertical-align: top;\n",
       "    }\n",
       "\n",
       "    .dataframe thead th {\n",
       "        text-align: right;\n",
       "    }\n",
       "</style>\n",
       "<table border=\"1\" class=\"dataframe\">\n",
       "  <thead>\n",
       "    <tr style=\"text-align: right;\">\n",
       "      <th></th>\n",
       "      <th>id</th>\n",
       "      <th>name</th>\n",
       "    </tr>\n",
       "  </thead>\n",
       "  <tbody>\n",
       "    <tr>\n",
       "      <th>0</th>\n",
       "      <td>1</td>\n",
       "      <td>Mesut Özil</td>\n",
       "    </tr>\n",
       "    <tr>\n",
       "      <th>1</th>\n",
       "      <td>2</td>\n",
       "      <td>Sokratis Papastathopoulos</td>\n",
       "    </tr>\n",
       "    <tr>\n",
       "      <th>2</th>\n",
       "      <td>3</td>\n",
       "      <td>David Luiz Moreira Marinho</td>\n",
       "    </tr>\n",
       "    <tr>\n",
       "      <th>3</th>\n",
       "      <td>4</td>\n",
       "      <td>Pierre-Emerick Aubameyang</td>\n",
       "    </tr>\n",
       "    <tr>\n",
       "      <th>4</th>\n",
       "      <td>5</td>\n",
       "      <td>Cédric Soares</td>\n",
       "    </tr>\n",
       "    <tr>\n",
       "      <th>...</th>\n",
       "      <td>...</td>\n",
       "      <td>...</td>\n",
       "    </tr>\n",
       "    <tr>\n",
       "      <th>708</th>\n",
       "      <td>617</td>\n",
       "      <td>Andreas Söndergaard</td>\n",
       "    </tr>\n",
       "    <tr>\n",
       "      <th>709</th>\n",
       "      <td>626</td>\n",
       "      <td>Patrick Cutrone</td>\n",
       "    </tr>\n",
       "    <tr>\n",
       "      <th>710</th>\n",
       "      <td>629</td>\n",
       "      <td>Nigel Lonwijk</td>\n",
       "    </tr>\n",
       "    <tr>\n",
       "      <th>711</th>\n",
       "      <td>642</td>\n",
       "      <td>Willian José Da Silva</td>\n",
       "    </tr>\n",
       "    <tr>\n",
       "      <th>712</th>\n",
       "      <td>649</td>\n",
       "      <td>Hugo Bueno</td>\n",
       "    </tr>\n",
       "  </tbody>\n",
       "</table>\n",
       "<p>713 rows × 2 columns</p>\n",
       "</div>"
      ],
      "text/plain": [
       "      id                        name\n",
       "0      1                  Mesut Özil\n",
       "1      2   Sokratis Papastathopoulos\n",
       "2      3  David Luiz Moreira Marinho\n",
       "3      4   Pierre-Emerick Aubameyang\n",
       "4      5               Cédric Soares\n",
       "..   ...                         ...\n",
       "708  617         Andreas Söndergaard\n",
       "709  626             Patrick Cutrone\n",
       "710  629               Nigel Lonwijk\n",
       "711  642       Willian José Da Silva\n",
       "712  649                  Hugo Bueno\n",
       "\n",
       "[713 rows x 2 columns]"
      ]
     },
     "execution_count": 13,
     "metadata": {},
     "output_type": "execute_result"
    }
   ],
   "source": [
    "player_ids20_21_df"
   ]
  },
  {
   "cell_type": "code",
   "execution_count": 14,
   "id": "d10da186-6350-400a-8541-055227ad63a1",
   "metadata": {},
   "outputs": [],
   "source": [
    "player_ids21_22_df['name'] = player_ids21_22_df[['first_name','second_name']].apply(lambda x: ' '.join(x), axis=1)\n",
    "player_ids21_22_df = player_ids21_22_df.drop([\"first_name\", \"second_name\"], axis=1)"
   ]
  },
  {
   "cell_type": "code",
   "execution_count": 15,
   "id": "84b69e8c-0922-4753-882f-e178cfe09f4a",
   "metadata": {},
   "outputs": [
    {
     "data": {
      "text/html": [
       "<div>\n",
       "<style scoped>\n",
       "    .dataframe tbody tr th:only-of-type {\n",
       "        vertical-align: middle;\n",
       "    }\n",
       "\n",
       "    .dataframe tbody tr th {\n",
       "        vertical-align: top;\n",
       "    }\n",
       "\n",
       "    .dataframe thead th {\n",
       "        text-align: right;\n",
       "    }\n",
       "</style>\n",
       "<table border=\"1\" class=\"dataframe\">\n",
       "  <thead>\n",
       "    <tr style=\"text-align: right;\">\n",
       "      <th></th>\n",
       "      <th>id</th>\n",
       "      <th>name</th>\n",
       "    </tr>\n",
       "  </thead>\n",
       "  <tbody>\n",
       "    <tr>\n",
       "      <th>0</th>\n",
       "      <td>1</td>\n",
       "      <td>Bernd Leno</td>\n",
       "    </tr>\n",
       "    <tr>\n",
       "      <th>1</th>\n",
       "      <td>2</td>\n",
       "      <td>Rúnar Alex Rúnarsson</td>\n",
       "    </tr>\n",
       "    <tr>\n",
       "      <th>2</th>\n",
       "      <td>3</td>\n",
       "      <td>Willian Borges Da Silva</td>\n",
       "    </tr>\n",
       "    <tr>\n",
       "      <th>3</th>\n",
       "      <td>4</td>\n",
       "      <td>Pierre-Emerick Aubameyang</td>\n",
       "    </tr>\n",
       "    <tr>\n",
       "      <th>4</th>\n",
       "      <td>5</td>\n",
       "      <td>Cédric Soares</td>\n",
       "    </tr>\n",
       "    <tr>\n",
       "      <th>...</th>\n",
       "      <td>...</td>\n",
       "      <td>...</td>\n",
       "    </tr>\n",
       "    <tr>\n",
       "      <th>709</th>\n",
       "      <td>661</td>\n",
       "      <td>Bruno André Cavaco Jordão</td>\n",
       "    </tr>\n",
       "    <tr>\n",
       "      <th>710</th>\n",
       "      <td>685</td>\n",
       "      <td>Toti António Gomes</td>\n",
       "    </tr>\n",
       "    <tr>\n",
       "      <th>711</th>\n",
       "      <td>686</td>\n",
       "      <td>Dion Sanderson</td>\n",
       "    </tr>\n",
       "    <tr>\n",
       "      <th>712</th>\n",
       "      <td>687</td>\n",
       "      <td>Ryan Giles</td>\n",
       "    </tr>\n",
       "    <tr>\n",
       "      <th>713</th>\n",
       "      <td>689</td>\n",
       "      <td>Francisco Jorge Tomás Oliveira</td>\n",
       "    </tr>\n",
       "  </tbody>\n",
       "</table>\n",
       "<p>714 rows × 2 columns</p>\n",
       "</div>"
      ],
      "text/plain": [
       "      id                            name\n",
       "0      1                      Bernd Leno\n",
       "1      2            Rúnar Alex Rúnarsson\n",
       "2      3         Willian Borges Da Silva\n",
       "3      4       Pierre-Emerick Aubameyang\n",
       "4      5                   Cédric Soares\n",
       "..   ...                             ...\n",
       "709  661       Bruno André Cavaco Jordão\n",
       "710  685              Toti António Gomes\n",
       "711  686                  Dion Sanderson\n",
       "712  687                      Ryan Giles\n",
       "713  689  Francisco Jorge Tomás Oliveira\n",
       "\n",
       "[714 rows x 2 columns]"
      ]
     },
     "execution_count": 15,
     "metadata": {},
     "output_type": "execute_result"
    }
   ],
   "source": [
    "player_ids21_22_df"
   ]
  },
  {
   "cell_type": "markdown",
   "id": "461c3bef-78aa-4229-9672-00924bc6d475",
   "metadata": {},
   "source": [
    "This data can be saved in pickle format for future use in analysis."
   ]
  },
  {
   "cell_type": "code",
   "execution_count": 16,
   "id": "aa38e7cc-bf6d-4994-b7d7-2456941813e0",
   "metadata": {},
   "outputs": [],
   "source": [
    "file = open(\"./clean/20_21/player_id_list_20_21.pkl\", \"wb\")\n",
    "pickle.dump(player_ids20_21_df, file)\n",
    "file.close()"
   ]
  },
  {
   "cell_type": "code",
   "execution_count": 17,
   "id": "426742ac-4a23-464f-a31a-90dcb9d4ca42",
   "metadata": {},
   "outputs": [],
   "source": [
    "file = open(\"./clean/21_22/player_id_list_21_22.pkl\", \"wb\")\n",
    "pickle.dump(player_ids21_22_df, file)\n",
    "file.close()"
   ]
  },
  {
   "cell_type": "code",
   "execution_count": 18,
   "id": "553f352f-b542-46f8-b820-156390ad8d22",
   "metadata": {},
   "outputs": [
    {
     "name": "stdout",
     "output_type": "stream",
     "text": [
      "\\begin{tabular}{lrl}\n",
      "\\toprule\n",
      "{} &  id &                        name \\\\\n",
      "\\midrule\n",
      "0 &   1 &                  Mesut Özil \\\\\n",
      "1 &   2 &   Sokratis Papastathopoulos \\\\\n",
      "2 &   3 &  David Luiz Moreira Marinho \\\\\n",
      "3 &   4 &   Pierre-Emerick Aubameyang \\\\\n",
      "4 &   5 &               Cédric Soares \\\\\n",
      "\\bottomrule\n",
      "\\end{tabular}\n",
      "\n"
     ]
    },
    {
     "name": "stderr",
     "output_type": "stream",
     "text": [
      "C:\\Users\\phili\\AppData\\Local\\Temp\\ipykernel_21232\\2782097407.py:1: FutureWarning: In future versions `DataFrame.to_latex` is expected to utilise the base implementation of `Styler.to_latex` for formatting and rendering. The arguments signature may therefore change. It is recommended instead to use `DataFrame.style.to_latex` which also contains additional functionality.\n",
      "  print(player_ids20_21_df.head(5).to_latex())\n"
     ]
    }
   ],
   "source": [
    "print(player_ids20_21_df.head(5).to_latex())"
   ]
  },
  {
   "cell_type": "code",
   "execution_count": null,
   "id": "c016105c-2be4-44ee-8fa8-722bc0ddc259",
   "metadata": {},
   "outputs": [],
   "source": []
  }
 ],
 "metadata": {
  "kernelspec": {
   "display_name": "Python 3 (ipykernel)",
   "language": "python",
   "name": "python3"
  },
  "language_info": {
   "codemirror_mode": {
    "name": "ipython",
    "version": 3
   },
   "file_extension": ".py",
   "mimetype": "text/x-python",
   "name": "python",
   "nbconvert_exporter": "python",
   "pygments_lexer": "ipython3",
   "version": "3.8.12"
  }
 },
 "nbformat": 4,
 "nbformat_minor": 5
}
